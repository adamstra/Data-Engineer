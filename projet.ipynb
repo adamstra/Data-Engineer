{
 "cells": [
  {
   "cell_type": "markdown",
   "metadata": {},
   "source": [
    "# Importtation de nos librairie"
   ]
  },
  {
   "cell_type": "code",
   "execution_count": 15,
   "metadata": {},
   "outputs": [],
   "source": [
    "import requests\n",
    "import json\n",
    "import pandas as pd\n",
    "import mysql.connector\n",
    "import os"
   ]
  },
  {
   "cell_type": "markdown",
   "metadata": {},
   "source": [
    "# Collecte des donnees"
   ]
  },
  {
   "cell_type": "code",
   "execution_count": 8,
   "metadata": {},
   "outputs": [
    {
     "name": "stdout",
     "output_type": "stream",
     "text": [
      "Weather data for Dakar saved.\n",
      "Weather data for Thies saved.\n",
      "Weather data for Diourbel saved.\n",
      "Weather data for Fatick saved.\n",
      "Weather data for Saint Louis saved.\n",
      "Weather data for Louga saved.\n",
      "Weather data for Matam saved.\n",
      "Weather data for Kolda saved.\n",
      "Weather data for Kedougou saved.\n",
      "Weather data for Sedhiou saved.\n",
      "Weather data for Kaffrine saved.\n",
      "Weather data for Ziguinchor saved.\n",
      "Weather data for Kaolack saved.\n",
      "Weather data for Tambacounda saved.\n"
     ]
    }
   ],
   "source": [
    "API_KEY = \"9f868310439f0a0554273d8f8768c83e\"\n",
    "CITIES = [\"Dakar\", \"Thies\", \"Diourbel\", \"Fatick\", \"Saint Louis\", \"Louga\", \"Matam\", \"Kolda\", \"Kedougou\", \"Sedhiou\", \"Kaffrine\", \"Ziguinchor\", \"Kaolack\", \"Tambacounda\"]  # Liste de villes\n",
    "\n",
    "\n",
    "def fetch_weather_data(city):\n",
    "    url = f\"http://api.openweathermap.org/data/2.5/weather?q={city}&appid={API_KEY}&units=metric\"\n",
    "    response = requests.get(url)\n",
    "    if response.status_code == 200:\n",
    "        weather_data = response.json()\n",
    "        with open(f\"data/{city}.json\", \"w\") as json_file:\n",
    "            json.dump(weather_data, json_file, indent=4)\n",
    "        print(f\"Weather data for {city} saved.\")\n",
    "    else:\n",
    "        print(f\"Error fetching data for {city}\")\n",
    "\n",
    "\n",
    "# Parcourir la liste de villes et appeler fetch_weather_data pour chaque ville\n",
    "for city in CITIES:\n",
    "    fetch_weather_data(city)"
   ]
  },
  {
   "cell_type": "markdown",
   "metadata": {},
   "source": [
    "# Transformation des donnees"
   ]
  },
  {
   "cell_type": "code",
   "execution_count": 9,
   "metadata": {},
   "outputs": [],
   "source": [
    "def clean_weather_data(file_path):\n",
    "    # Charger les données JSON manuellement\n",
    "    with open(file_path, \"r\") as file:\n",
    "        data = json.load(file)\n",
    "\n",
    "    # Extraire les colonnes d'intérêt avec gestion des sous-dictionnaires\n",
    "    cleaned_data = {\n",
    "        \"city\": data.get(\"name\", None),\n",
    "        \"temperature\": data.get(\"main\", {}).get(\"temp\", None),\n",
    "        \"humidity\": data.get(\"main\", {}).get(\"humidity\", None),\n",
    "        \"pressure\": data.get(\"main\", {}).get(\"pressure\", None),\n",
    "        \"weather_condition\": data.get(\"weather\", [{}])[0].get(\n",
    "            \"description\", None\n",
    "        ),  # Premier élément de la liste 'weather'\n",
    "        \"wind_speed\": data.get(\"wind\", {}).get(\"speed\", None),\n",
    "        \"wind_deg\": data.get(\"wind\", {}).get(\"deg\", None),\n",
    "        \"clouds\": data.get(\"clouds\", {}).get(\n",
    "            \"all\", None\n",
    "        ),  # Pourcentage de couverture nuageuse\n",
    "        \"latitude\": data.get(\"coord\", {}).get(\"lat\", None),\n",
    "        \"longitude\": data.get(\"coord\", {}).get(\"lon\", None),\n",
    "        \"rain_1h\": data.get(\"rain\", {}).get(\n",
    "            \"1h\", None\n",
    "        ), # Précipitation sur les trois dernières heures\n",
    "    }\n",
    "\n",
    "    # Convertir le dictionnaire en DataFrame\n",
    "    df_cleaned = pd.DataFrame([cleaned_data])\n",
    "\n",
    "    return df_cleaned"
   ]
  },
  {
   "cell_type": "code",
   "execution_count": 10,
   "metadata": {},
   "outputs": [
    {
     "name": "stdout",
     "output_type": "stream",
     "text": [
      "Weather data for Dakar saved.\n",
      "Data cleaned and saved for Dakar.\n",
      "Weather data for Thies saved.\n",
      "Data cleaned and saved for Thies.\n",
      "Weather data for Diourbel saved.\n",
      "Data cleaned and saved for Diourbel.\n",
      "Weather data for Fatick saved.\n",
      "Data cleaned and saved for Fatick.\n",
      "Weather data for Saint Louis saved.\n",
      "Data cleaned and saved for Saint Louis.\n",
      "Weather data for Louga saved.\n",
      "Data cleaned and saved for Louga.\n",
      "Weather data for Matam saved.\n",
      "Data cleaned and saved for Matam.\n",
      "Weather data for Kolda saved.\n",
      "Data cleaned and saved for Kolda.\n",
      "Weather data for Kedougou saved.\n",
      "Data cleaned and saved for Kedougou.\n",
      "Weather data for Sedhiou saved.\n",
      "Data cleaned and saved for Sedhiou.\n",
      "Weather data for Kaffrine saved.\n",
      "Data cleaned and saved for Kaffrine.\n",
      "Weather data for Ziguinchor saved.\n",
      "Data cleaned and saved for Ziguinchor.\n",
      "Weather data for Kaolack saved.\n",
      "Data cleaned and saved for Kaolack.\n",
      "Weather data for Tambacounda saved.\n",
      "Data cleaned and saved for Tambacounda.\n"
     ]
    }
   ],
   "source": [
    "# Parcourir la liste de villes pour récupérer les données météo et les nettoyer\n",
    "for city in CITIES:\n",
    "    fetch_weather_data(city)\n",
    "\n",
    "    # Nettoyer les données pour chaque ville\n",
    "    file_path = f\"data/{city}.json\"\n",
    "    try:\n",
    "        df = clean_weather_data(file_path)\n",
    "        # Sauvegarder les données nettoyées dans un fichier CSV\n",
    "        df.to_csv(f\"data_clean/{city}.csv\", index=False)\n",
    "        print(f\"Data cleaned and saved for {city}.\")\n",
    "    except Exception as e:\n",
    "        print(f\"Error processing data for {city}: {e}\")"
   ]
  },
  {
   "cell_type": "markdown",
   "metadata": {},
   "source": [
    "# Chargement dans une base de donnees"
   ]
  },
  {
   "cell_type": "code",
   "execution_count": 16,
   "metadata": {},
   "outputs": [
    {
     "name": "stdout",
     "output_type": "stream",
     "text": [
      "Data from data/Thies.json loaded into MySQL.\n",
      "Data from data/Diourbel.json loaded into MySQL.\n",
      "Data from data/Saint Louis.json loaded into MySQL.\n",
      "Data from data/Kaffrine.json loaded into MySQL.\n",
      "Data from data/Tambacounda.json loaded into MySQL.\n",
      "Data from data/Kolda.json loaded into MySQL.\n",
      "Data from data/Ziguinchor.json loaded into MySQL.\n",
      "Data from data/Kedougou.json loaded into MySQL.\n",
      "Data from data/Kaolack.json loaded into MySQL.\n",
      "Data from data/Fatick.json loaded into MySQL.\n",
      "Data from data/Dakar.json loaded into MySQL.\n",
      "Data from data/Louga.json loaded into MySQL.\n",
      "Data from data/Sedhiou.json loaded into MySQL.\n",
      "Data from data/Matam.json loaded into MySQL.\n"
     ]
    }
   ],
   "source": [
    "def load_data_to_mysql(file_path):\n",
    "    # Connexion à la base de données MySQL\n",
    "    conn = mysql.connector.connect(\n",
    "        host=\"127.0.0.1\",\n",
    "        user=\"boot\",\n",
    "        password=\"\",\n",
    "        database=\"test\",\n",
    "        port=\"3306\",\n",
    "        charset=\"utf8mb4\",\n",
    "        collation=\"utf8mb4_unicode_ci\",\n",
    "    )\n",
    "    cur = conn.cursor()\n",
    "\n",
    "    # Nettoyer les données météo à partir du fichier JSON\n",
    "    df_cleaned = clean_weather_data(file_path)\n",
    "\n",
    "    # Insérer chaque ligne nettoyée dans la table MySQL\n",
    "    for index, row in df_cleaned.iterrows():\n",
    "        cur.execute(\n",
    "            \"INSERT INTO engine (city, temperature, humidity, pressure, weather_condition, wind_speed, wind_deg, clouds, latitude, longitude, rain_1h) \"\n",
    "            \"VALUES (%s, %s, %s, %s, %s, %s, %s, %s, %s, %s, %s)\",\n",
    "            (\n",
    "                row[\"city\"],\n",
    "                row[\"temperature\"],\n",
    "                row[\"humidity\"],\n",
    "                row[\"pressure\"],\n",
    "                row[\"weather_condition\"],\n",
    "                row[\"wind_speed\"],\n",
    "                row[\"wind_deg\"],\n",
    "                row[\"clouds\"],\n",
    "                row[\"latitude\"],\n",
    "                row[\"longitude\"],\n",
    "                row[\"rain_1h\"],\n",
    "            ),\n",
    "        )\n",
    "\n",
    "    # Sauvegarder les modifications dans la base de données\n",
    "    conn.commit()\n",
    "    cur.close()\n",
    "    conn.close()\n",
    "    print(f\"Data from {file_path} loaded into MySQL.\")\n",
    "\n",
    "# Traiter tous les fichiers JSON dans le dossier \"data/\"\n",
    "def load_all_json_to_mysql(directory):\n",
    "    # Parcourir tous les fichiers JSON dans le répertoire spécifié\n",
    "    for filename in os.listdir(directory):\n",
    "        if filename.endswith(\".json\"):  # Vérifier que le fichier est un JSON\n",
    "            file_path = os.path.join(directory, filename)\n",
    "            load_data_to_mysql(file_path)\n",
    "\n",
    "# Appel de la fonction pour charger tous les fichiers JSON nettoyés dans MySQL\n",
    "load_all_json_to_mysql(\"data/\")"
   ]
  },
  {
   "cell_type": "code",
   "execution_count": null,
   "metadata": {},
   "outputs": [],
   "source": []
  },
  {
   "cell_type": "code",
   "execution_count": null,
   "metadata": {},
   "outputs": [],
   "source": []
  }
 ],
 "metadata": {
  "kernelspec": {
   "display_name": "env",
   "language": "python",
   "name": "python3"
  },
  "language_info": {
   "codemirror_mode": {
    "name": "ipython",
    "version": 3
   },
   "file_extension": ".py",
   "mimetype": "text/x-python",
   "name": "python",
   "nbconvert_exporter": "python",
   "pygments_lexer": "ipython3",
   "version": "3.11.7"
  }
 },
 "nbformat": 4,
 "nbformat_minor": 2
}
